{
 "cells": [
  {
   "cell_type": "markdown",
   "metadata": {},
   "source": [
    "# Assignment Day 2 | Data Science Essentials | 9th November 2020"
   ]
  },
  {
   "cell_type": "markdown",
   "metadata": {},
   "source": [
    "# Question 1"
   ]
  },
  {
   "cell_type": "code",
   "execution_count": 2,
   "metadata": {
    "scrolled": true
   },
   "outputs": [
    {
     "name": "stdout",
     "output_type": "stream",
     "text": [
      "No of elements:4\n",
      "Enter element to check:121\n",
      "Enter element to check:565\n",
      "Enter element to check:4\n",
      "Enter element to check:52\n",
      "Even Numbers [4, 52]\n"
     ]
    }
   ],
   "source": [
    "l=[]\n",
    "n=int(input(\"No of elements:\"))\n",
    "for i in range(1,n+1):\n",
    "    m=int(input(\"Enter element to check:\"))\n",
    "    l.append(m)\n",
    "even=[]\n",
    "for j in l:\n",
    "    if(j%2==0):\n",
    "        even.append(j)\n",
    "print(\"Even Numbers\",even)"
   ]
  },
  {
   "cell_type": "markdown",
   "metadata": {},
   "source": [
    "# Question 3"
   ]
  },
  {
   "cell_type": "code",
   "execution_count": 4,
   "metadata": {},
   "outputs": [
    {
     "name": "stdout",
     "output_type": "stream",
     "text": [
      " Give number: 4\n",
      "{1: 1, 2: 4, 3: 9, 4: 16}\n"
     ]
    }
   ],
   "source": [
    "n=int(input(\" Give number: \"))\n",
    "d = dict()\n",
    "\n",
    "for i in range(1,n+1):\n",
    "    d[i]=i*i\n",
    "\n",
    "print(d)"
   ]
  },
  {
   "cell_type": "code",
   "execution_count": 5,
   "metadata": {},
   "outputs": [
    {
     "name": "stdout",
     "output_type": "stream",
     "text": [
      "Give number: 4\n",
      "{1: 1, 2: 4, 3: 9, 4: 16}\n"
     ]
    }
   ],
   "source": [
    "n=int(input(\"Give number: \"))\n",
    "d={i:i*i for i in range(1,n+1)}\n",
    "print(d)"
   ]
  },
  {
   "cell_type": "markdown",
   "metadata": {},
   "source": [
    "# Question 4"
   ]
  },
  {
   "cell_type": "code",
   "execution_count": 6,
   "metadata": {},
   "outputs": [
    {
     "name": "stdout",
     "output_type": "stream",
     "text": [
      "UP 5\n",
      "DOWN 3\n",
      "LEFT 3\n",
      "RIGHT 2\n",
      "\n",
      "2\n"
     ]
    }
   ],
   "source": [
    "from math import sqrt\n",
    "\n",
    "\n",
    "def robot():\n",
    "    dict = {}\n",
    "    while True:\n",
    "        move = input()\n",
    "        if not move:\n",
    "            break\n",
    "        else:\n",
    "            action = [x for x in move.split(\" \")]\n",
    "            dict[action[0]] = int(action[1])\n",
    "    coordinate = sqrt(pow(abs(dict['UP']-dict['DOWN']),2)+pow(abs(dict['RIGHT']-dict['LEFT']),2))           \n",
    "    return round(coordinate)\n",
    "    \n",
    "    \n",
    "print(robot( ))\n"
   ]
  }
 ],
 "metadata": {
  "kernelspec": {
   "display_name": "Python 3",
   "language": "python",
   "name": "python3"
  },
  "language_info": {
   "codemirror_mode": {
    "name": "ipython",
    "version": 3
   },
   "file_extension": ".py",
   "mimetype": "text/x-python",
   "name": "python",
   "nbconvert_exporter": "python",
   "pygments_lexer": "ipython3",
   "version": "3.7.6"
  }
 },
 "nbformat": 4,
 "nbformat_minor": 4
}
